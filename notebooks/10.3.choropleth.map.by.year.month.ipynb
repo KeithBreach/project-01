{
 "cells": [
  {
   "cell_type": "code",
   "execution_count": 1,
   "metadata": {},
   "outputs": [],
   "source": [
    "import pandas as pd\n",
    "import numpy as np\n",
    "import os, sys, inspect, time\n",
    "import folium\n",
    "import subprocess\n",
    "from folium.plugins import HeatMap\n",
    "from sklearn import preprocessing\n",
    "from selenium import webdriver\n",
    "from selenium.webdriver.chrome.options import Options\n",
    "\n",
    "\n",
    "# add parent dir to system dir\n",
    "currdir = os.path.dirname(os.path.abspath(inspect.getfile(inspect.currentframe())))\n",
    "rootdir = os.path.dirname(currdir)\n",
    "sys.path.insert(0, rootdir)\n",
    "\n",
    "from src.utils import get_temporal_data, get_spatial_data"
   ]
  },
  {
   "cell_type": "code",
   "execution_count": 2,
   "metadata": {},
   "outputs": [
    {
     "data": {
      "text/plain": [
       "Index(['Zip Code', 'Year', 'Month', 'Home Value Index', 'Median Listing Price',\n",
       "       'Median Listing Price Per sqf', 'Sales', 'Median Income (dollars)',\n",
       "       'Number of Households', 'School Rating (Parent)', 'School Rating(GS)',\n",
       "       'Mortgage Rate_15', 'Mortgage Rate_30', 'Total_NewConstructions',\n",
       "       'Total_RemodelsRepairs', 'TotalCost_NewConstructions',\n",
       "       'TotalCost_RemodelRepairs', 'Bank Count', 'Liquor Store Count',\n",
       "       'Wal-Mart Count', 'Starbucks Count', 'Target Count',\n",
       "       'Inventory Measure', 'Median Price Cut', 'Median Price of Reduction',\n",
       "       'Median Rental Price', 'Latitude', 'Longitude'],\n",
       "      dtype='object')"
      ]
     },
     "execution_count": 2,
     "metadata": {},
     "output_type": "execute_result"
    }
   ],
   "source": [
    "# read main real state df\n",
    "ffname_realestate = os.path.join(rootdir, \"data\", \"int\", \"realestate_demographics.csv\")\n",
    "realestate_df = pd.read_csv(ffname_realestate)\n",
    "realestate_df.columns"
   ]
  },
  {
   "cell_type": "code",
   "execution_count": 367,
   "metadata": {},
   "outputs": [
    {
     "data": {
      "text/html": [
       "<div>\n",
       "<style scoped>\n",
       "    .dataframe tbody tr th:only-of-type {\n",
       "        vertical-align: middle;\n",
       "    }\n",
       "\n",
       "    .dataframe tbody tr th {\n",
       "        vertical-align: top;\n",
       "    }\n",
       "\n",
       "    .dataframe thead th {\n",
       "        text-align: right;\n",
       "    }\n",
       "</style>\n",
       "<table border=\"1\" class=\"dataframe\">\n",
       "  <thead>\n",
       "    <tr style=\"text-align: right;\">\n",
       "      <th></th>\n",
       "      <th>Zip Code</th>\n",
       "      <th>Inventory Measure</th>\n",
       "    </tr>\n",
       "  </thead>\n",
       "  <tbody>\n",
       "    <tr>\n",
       "      <th>1</th>\n",
       "      <td>78702</td>\n",
       "      <td>159.0</td>\n",
       "    </tr>\n",
       "    <tr>\n",
       "      <th>2</th>\n",
       "      <td>78703</td>\n",
       "      <td>84.0</td>\n",
       "    </tr>\n",
       "    <tr>\n",
       "      <th>3</th>\n",
       "      <td>78704</td>\n",
       "      <td>188.0</td>\n",
       "    </tr>\n",
       "    <tr>\n",
       "      <th>5</th>\n",
       "      <td>78717</td>\n",
       "      <td>58.0</td>\n",
       "    </tr>\n",
       "    <tr>\n",
       "      <th>11</th>\n",
       "      <td>78726</td>\n",
       "      <td>17.0</td>\n",
       "    </tr>\n",
       "  </tbody>\n",
       "</table>\n",
       "</div>"
      ],
      "text/plain": [
       "   Zip Code  Inventory Measure\n",
       "1     78702              159.0\n",
       "2     78703               84.0\n",
       "3     78704              188.0\n",
       "5     78717               58.0\n",
       "11    78726               17.0"
      ]
     },
     "execution_count": 367,
     "metadata": {},
     "output_type": "execute_result"
    }
   ],
   "source": [
    "# set indicator to plot\n",
    "column_to_choroplethmap = \"Home Value Index\"\n",
    "column_to_choroplethmap = \"Median Listing Price\"\n",
    "column_to_choroplethmap = \"Median Listing Price Per sqf\"\n",
    "column_to_choroplethmap = \"Median Income (dollars)\"\n",
    "column_to_choroplethmap = \"Number of Households\"\n",
    "column_to_choroplethmap = \"School Rating (Parent)\"\n",
    "column_to_choroplethmap = \"School Rating(GS)\"\n",
    "column_to_choroplethmap = \"Total_NewConstructions\"\n",
    "column_to_choroplethmap = \"Total_RemodelsRepairs\"\n",
    "column_to_choroplethmap = \"TotalCost_NewConstructions\"\n",
    "column_to_choroplethmap = \"Bank Count\"\n",
    "column_to_choroplethmap = \"Liquor Store Count\"\n",
    "column_to_choroplethmap = \"Wal-Mart Count\"\n",
    "column_to_choroplethmap = \"Starbucks Count\"\n",
    "column_to_choroplethmap = \"Target Count\"\n",
    "column_to_choroplethmap = \"Inventory Measure\"\n",
    "\n",
    "year = 2016\n",
    "month = 12\n",
    "\n",
    "df = get_spatial_data(year, realestate_df)\n",
    "df = df.loc[df[\"Month\"] == month, :]\n",
    "df = df[[\"Zip Code\", column_to_choroplethmap]]\n",
    "df.reset_index(inplace=True)\n",
    "df.drop([\"index\"], inplace=True, axis=1)\n",
    "df[\"Zip Code\"] = df[\"Zip Code\"].astype(str)\n",
    "df.dropna(inplace=True)\n",
    "df.head()"
   ]
  },
  {
   "cell_type": "code",
   "execution_count": 368,
   "metadata": {},
   "outputs": [],
   "source": [
    "# set choropleth map params\n",
    "location = [30.3100, -97.8]\n",
    "zoom_start = 11\n",
    "name = column_to_choroplethmap\n",
    "radius = 30\n",
    "\n",
    "# rescale to [0, 1]\n",
    "# max_val = df[column_to_choroplethmap].max()\n",
    "# min_val = df[column_to_choroplethmap].min()\n",
    "# df[column_to_choroplethmap] = (df[column_to_choroplethmap] - min_val) / (max_val - min_val)\n",
    "# creat threshold range\n",
    "max_val = df[column_to_choroplethmap].max()\n",
    "min_val = df[column_to_choroplethmap].min()\n",
    "threshold_scale = np.linspace(min_val, max_val, 6).tolist()\n",
    "# set fill color\n",
    "fill_color = \"BuPu\""
   ]
  },
  {
   "cell_type": "code",
   "execution_count": 1,
   "metadata": {},
   "outputs": [
    {
     "ename": "NameError",
     "evalue": "name 'folium' is not defined",
     "output_type": "error",
     "traceback": [
      "\u001b[0;31m---------------------------------------------------------------------------\u001b[0m",
      "\u001b[0;31mNameError\u001b[0m                                 Traceback (most recent call last)",
      "\u001b[0;32m<ipython-input-1-81018df2ea67>\u001b[0m in \u001b[0;36m<module>\u001b[0;34m()\u001b[0m\n\u001b[1;32m      1\u001b[0m \u001b[0;31m# create map\u001b[0m\u001b[0;34m\u001b[0m\u001b[0;34m\u001b[0m\u001b[0m\n\u001b[0;32m----> 2\u001b[0;31m \u001b[0mm\u001b[0m \u001b[0;34m=\u001b[0m \u001b[0mfolium\u001b[0m\u001b[0;34m.\u001b[0m\u001b[0mMap\u001b[0m\u001b[0;34m(\u001b[0m\u001b[0mlocation\u001b[0m\u001b[0;34m,\u001b[0m \u001b[0mzoom_start\u001b[0m\u001b[0;34m=\u001b[0m\u001b[0mzoom_start\u001b[0m\u001b[0;34m)\u001b[0m\u001b[0;34m\u001b[0m\u001b[0m\n\u001b[0m\u001b[1;32m      3\u001b[0m \u001b[0mffname\u001b[0m \u001b[0;34m=\u001b[0m \u001b[0mos\u001b[0m\u001b[0;34m.\u001b[0m\u001b[0mpath\u001b[0m\u001b[0;34m.\u001b[0m\u001b[0mjoin\u001b[0m\u001b[0;34m(\u001b[0m\u001b[0mrootdir\u001b[0m\u001b[0;34m,\u001b[0m \u001b[0;34m\"data\"\u001b[0m\u001b[0;34m,\u001b[0m \u001b[0;34m\"ext\"\u001b[0m\u001b[0;34m,\u001b[0m \u001b[0;34m\"austin-zipcode-boundaries.geojson\"\u001b[0m\u001b[0;34m)\u001b[0m\u001b[0;34m\u001b[0m\u001b[0m\n\u001b[1;32m      4\u001b[0m \u001b[0;31m# create choropleth map\u001b[0m\u001b[0;34m\u001b[0m\u001b[0;34m\u001b[0m\u001b[0m\n\u001b[1;32m      5\u001b[0m m.choropleth(\n",
      "\u001b[0;31mNameError\u001b[0m: name 'folium' is not defined"
     ]
    }
   ],
   "source": [
    "# create map\n",
    "m = folium.Map(location, zoom_start=zoom_start)\n",
    "ffname = os.path.join(rootdir, \"data\", \"ext\", \"austin-zipcode-boundaries.geojson\")\n",
    "# create choropleth map\n",
    "m.choropleth(\n",
    "    geo_data=ffname,\n",
    "    data=df,\n",
    "    columns=[\"Zip Code\", column_to_choroplethmap],\n",
    "    key_on=\"feature.properties.zipcode\",\n",
    "    fill_color=fill_color)\n",
    "m"
   ]
  },
  {
   "cell_type": "code",
   "execution_count": 370,
   "metadata": {},
   "outputs": [],
   "source": [
    "# save built map as html\n",
    "fname = f\"choroplethmap-\" + name.replace(\" \", \"-\").lower().replace(\")\", \"\").replace(\"(\", \"\") + f\"-{year}-{month}\"\n",
    "m.save(os.path.join(rootdir, 'reports', 'figures', fname + \".html\"))"
   ]
  },
  {
   "cell_type": "code",
   "execution_count": 371,
   "metadata": {},
   "outputs": [],
   "source": [
    "# save to png file (by cutycapt)\n",
    "# fname = f\"choroplethmap-\" + name.replace(\" \", \"-\").lower().replace(\")\", \"\").replace(\"(\", \"\") + f\"-{year}-{month}\"\n",
    "# url = f\"file://{rootdir}/reports/figures/{fname}.html\"\n",
    "# ffname = os.path.join(rootdir, \"reports\", \"figures\", fname + \".png\" )\n",
    "# subprocess.check_call([\"cutycapt\",\"--url={}\".format(url), \"--out={}\".format(ffname)])"
   ]
  },
  {
   "cell_type": "code",
   "execution_count": 372,
   "metadata": {},
   "outputs": [],
   "source": [
    "# save to png file (by selenium)\n",
    "fname = f\"choroplethmap-\" + name.replace(\" \", \"-\").lower().replace(\")\", \"\").replace(\"(\", \"\") + f\"-{year}-{month}\"\n",
    "url = f\"file://{rootdir}/reports/figures/{fname}\" + \".html\"\n",
    "ffname = os.path.join(rootdir, \"reports\", \"figures\", fname + \".png\" )\n",
    "browser = webdriver.Chrome(\"/usr/local/bin/chromedriver\")\n",
    "browser.get(url)"
   ]
  },
  {
   "cell_type": "code",
   "execution_count": 373,
   "metadata": {},
   "outputs": [],
   "source": [
    "time.sleep(1)  #Give the map tiles some time to load\n",
    "browser.save_screenshot(ffname)\n",
    "browser.quit()"
   ]
  },
  {
   "cell_type": "code",
   "execution_count": 146,
   "metadata": {},
   "outputs": [],
   "source": [
    "m.save(os.path.join(rootdir, 'reports', 'figures', fname + \".html\"))"
   ]
  },
  {
   "cell_type": "code",
   "execution_count": null,
   "metadata": {},
   "outputs": [],
   "source": []
  }
 ],
 "metadata": {
  "kernelspec": {
   "display_name": "Python [conda env:08-project-one]",
   "language": "python",
   "name": "conda-env-08-project-one-py"
  },
  "language_info": {
   "codemirror_mode": {
    "name": "ipython",
    "version": 3
   },
   "file_extension": ".py",
   "mimetype": "text/x-python",
   "name": "python",
   "nbconvert_exporter": "python",
   "pygments_lexer": "ipython3",
   "version": "3.6.5"
  }
 },
 "nbformat": 4,
 "nbformat_minor": 2
}
