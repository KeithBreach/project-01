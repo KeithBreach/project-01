{
 "cells": [
  {
   "cell_type": "markdown",
   "metadata": {
    "slideshow": {
     "slide_type": "slide"
    }
   },
   "source": [
    "# Austin Real Estate Investment\n",
    "\n",
    "### Where And Why To Buy\n",
    "\n",
    "###### By Keith B, Vib Y, Karol C, and Aidin H"
   ]
  },
  {
   "cell_type": "markdown",
   "metadata": {
    "slideshow": {
     "slide_type": "slide"
    }
   },
   "source": [
    "Our intent was to do an in-depth investigation of the housing market in Austin and study market-related variables to find which zip code would be most profitable to purchase a home in. "
   ]
  },
  {
   "cell_type": "markdown",
   "metadata": {
    "slideshow": {
     "slide_type": "slide"
    }
   },
   "source": [
    "The variables we looked at were: \n",
    "\n",
    "* House price by zip\n",
    "* Household income by zip\n",
    "* Current construction by zip\n",
    "* Rate of change of construction by zip\n",
    "* School ratings in each zip\n",
    "* Types of businesses in zip\n",
    "\n"
   ]
  },
  {
   "cell_type": "markdown",
   "metadata": {
    "slideshow": {
     "slide_type": "slide"
    }
   },
   "source": [
    "For information about housing prices and mortgage rates, we used: \n",
    "\n",
    "<img src=\"https://d360wc4uc6n3i9.cloudfront.net/assets/images/logos/v2/quandl-word-mark-fb41d14c7a394be8118897fb977de828.svg\"  width=\"200\" height=\"200\">\n",
    "<img src=\"http://zillow.mediaroom.com/image/ForScreen_RGB_ZillowLogo_Blue-Square-Horizontal-medium.jpg\"  width=\"200\" height=\"200\">\n",
    "\n"
   ]
  },
  {
   "cell_type": "markdown",
   "metadata": {
    "slideshow": {
     "slide_type": "slide"
    }
   },
   "source": [
    "To get the information about household income, we used the 2011 through 2016 American Community Surveys done by the US Census Bureau with some data cleaning help from their American FactFinder search.\n",
    "<img src=\"https://lmi.workforcegps.org/-/media/Communities/lmi/Images/Icons-and-Logos/CB-AFF-Logo.ashx?h=118&la=en&w=335\"  width=\"200\" height=\"200\">\n"
   ]
  },
  {
   "cell_type": "markdown",
   "metadata": {
    "slideshow": {
     "slide_type": "slide"
    }
   },
   "source": [
    "For information about past and current construction projects in the city, we used \n",
    "<img src=\"https://data.austintexas.gov/api/assets/CFBD7709-F5FF-4A82-B530-A5B892DE7BE4/?/data-austintexas-gov.png\"  width=\"200\" height=\"200\">"
   ]
  },
  {
   "cell_type": "markdown",
   "metadata": {
    "slideshow": {
     "slide_type": "slide"
    }
   },
   "source": [
    "For school ratings, we used the GreatSchools.Org API.\n",
    "<img src=\"https://www.greatschools.org/gk/wp-content/uploads/2016/07/GreatSchoolsLogo-social.png\"  width=\"200\" height=\"200\">\n"
   ]
  },
  {
   "cell_type": "markdown",
   "metadata": {
    "slideshow": {
     "slide_type": "slide"
    }
   },
   "source": [
    "For local business information, we accessed the Google Places API.\n",
    "<img src=\"https://img.talkandroid.com/uploads/2015/07/google_maps_logo-450x450.png\"  width=\"200\" height=\"200\">"
   ]
  },
  {
   "cell_type": "markdown",
   "metadata": {
    "slideshow": {
     "slide_type": "slide"
    }
   },
   "source": [
    "## Python packages we used: \n",
    "### Data / Numerical Computaton\n",
    "* Numpy\n",
    "* Pandas\n",
    "\n",
    "### Visualization\n",
    "* Matplotlib\n",
    "* Seaborn\n",
    "* Folium\n",
    "* ArcGIS\n",
    "\n",
    "### Modeling\n",
    "* Scikit-learn\n",
    "* Tensorflow\n",
    "* Kera\n",
    "\n",
    "### MICS\n",
    "* Selenium\n",
    "* Subprocess"
   ]
  },
  {
   "cell_type": "markdown",
   "metadata": {
    "slideshow": {
     "slide_type": "slide"
    }
   },
   "source": [
    "## Preprocessing: \n",
    "After finding our data sources, our next step was to clean all of the data and merge it into one giant dataframe/csv file. From that file, we were able to do our analysis. \n",
    "\n",
    "* Detectin missing/nan values\n",
    "* Nan removal\n",
    "* Gap filling\n",
    "* Interpolation\n",
    "* Reframing data\n"
   ]
  },
  {
   "cell_type": "markdown",
   "metadata": {
    "slideshow": {
     "slide_type": "slide"
    }
   },
   "source": [
    "## Choropleth: \n",
    "\n"
   ]
  },
  {
   "cell_type": "code",
   "execution_count": 1,
   "metadata": {},
   "outputs": [],
   "source": [
    "# import pandas as pd\n",
    "# import numpy as np\n",
    "# import os, sys, inspect, time\n",
    "# try: \n",
    "#     import subprocess\n",
    "#     import folium\n",
    "#     from folium.plugins import HeatMap\n",
    "#     from sklearn import preprocessing\n",
    "#     from selenium import webdriver\n",
    "#     from selenium.webdriver.chrome.options import Options\n",
    "# except:\n",
    "    \n",
    "\n",
    "\n",
    "# # add parent dir to system dir\n",
    "# currdir = os.path.dirname(os.path.abspath(inspect.getfile(inspect.currentframe())))\n",
    "# rootdir = os.path.dirname(currdir)\n",
    "# sys.path.insert(0, rootdir)\n",
    "\n",
    "# from src.utils import get_temporal_data, get_spatial_data\n",
    "\n",
    "# # read main real state df\n",
    "# ffname_realestate = os.path.join(rootdir, \"data\", \"int\", \"realestate_demographics.csv\")\n",
    "# realestate_df = pd.read_csv(ffname_realestate)\n",
    "\n",
    "# # set indicator to plot\n",
    "# column_to_choroplethmap = \"Home Value Index\"\n",
    "\n",
    "# year = 2016\n",
    "# month = 12\n",
    "\n",
    "# df = get_spatial_data(year, realestate_df)\n",
    "# df = df.loc[df[\"Month\"] == month, :]\n",
    "# df = df[[\"Zip Code\", column_to_choroplethmap]]\n",
    "# df.reset_index(inplace=True)\n",
    "# df.drop([\"index\"], inplace=True, axis=1)\n",
    "# df[\"Zip Code\"] = df[\"Zip Code\"].astype(str)\n",
    "# df.dropna(inplace=True)\n",
    "# df.head()"
   ]
  },
  {
   "cell_type": "code",
   "execution_count": 2,
   "metadata": {
    "scrolled": true
   },
   "outputs": [],
   "source": [
    "# # set choropleth map params\n",
    "# location = [30.3100, -97.8]\n",
    "# # set fill color\n",
    "# fill_color = \"BuPu\"\n",
    "# # set zoom in start level\n",
    "# zoom_start = 11\n",
    "# name = column_to_choroplethmap\n",
    "# max_val = df[column_to_choroplethmap].max()\n",
    "# min_val = df[column_to_choroplethmap].min()\n",
    "# threshold_scale = np.linspace(min_val, max_val, 6).tolist()\n",
    "\n",
    "\n",
    "# # create map\n",
    "# m = folium.Map(location, zoom_start=zoom_start)\n",
    "# ffname = os.path.join(rootdir, \"data\", \"ext\", \"austin-zipcode-boundaries.geojson\")\n",
    "# # create choropleth map\n",
    "# m.choropleth(\n",
    "#     geo_data=ffname,\n",
    "#     data=df,\n",
    "#     columns=[\"Zip Code\", column_to_choroplethmap],\n",
    "#     key_on=\"feature.properties.zipcode\",\n",
    "#     fill_color=fill_color)\n",
    "# m"
   ]
  },
  {
   "cell_type": "markdown",
   "metadata": {
    "slideshow": {
     "slide_type": "slide"
    }
   },
   "source": [
    "## House Value vs Construction Dynamics: \n",
    "| [![HouseHomeValueIndex](../reports/figures/choroplethmap-home-value-index-2016-12.png)]()  | [![NewConstructions](../reports/figures/choroplethmap-total_newconstructions-2016-12.png)]() | [![TotalNewConstructionsCost](../reports/figures/choroplethmap-totalcost_newconstructions-2016-12.png)]() |\n",
    "|:---:|:---:|:---:|\n",
    "| House Home Value Index | New Constructions | Total Cost of New Constructions |\n"
   ]
  },
  {
   "cell_type": "markdown",
   "metadata": {
    "slideshow": {
     "slide_type": "slide"
    }
   },
   "source": [
    "## House Value vs Availability: \n",
    "| [![HouseHomeValueIndex](../reports/figures/choroplethmap-home-value-index-2016-12.png)]()  | [![InventoryMeasure](../reports/figures/choroplethmap-inventory-measure-2016-12.png)]() |\n",
    "|:---:|:---:|:---:|\n",
    "| House Home Value Index | Inventory Measure |\n"
   ]
  },
  {
   "cell_type": "markdown",
   "metadata": {
    "slideshow": {
     "slide_type": "slide"
    }
   },
   "source": [
    "## House Value vs School Quality: \n",
    "| [![HouseHomeValueIndex](../reports/figures/choroplethmap-home-value-index-2016-12.png)]()  | [![SchoolsGSRating](../reports/figures/choroplethmap-school-ratinggs-2016-12.png)]() | [![SchoolsParentRating](../reports/figures/choroplethmap-school-rating-parent-2016-12.png)]() |\n",
    "|:---:|:---:|:---:|\n",
    "| House Home Value Index | Great Schools Rating | Parent Rating |\n"
   ]
  },
  {
   "cell_type": "markdown",
   "metadata": {
    "slideshow": {
     "slide_type": "slide"
    }
   },
   "source": [
    "## House Value vs Retailers Count: \n",
    "| [![HouseHomeValueIndex](../reports/figures/choroplethmap-home-value-index-2016-12.png)]()  | [![TargetCount](../reports/figures/choroplethmap-target-count-2016-12.png)]() | [![WalmartCount](../reports/figures/choroplethmap-wal-mart-count-2016-12.png)]() |\n",
    "|:---:|:---:|:---:|\n",
    "| House Home Value Index | Target Count| Walmart Count |\n",
    "\n",
    "| [![StarbucksCount](../reports/figures/choroplethmap-starbucks-count-2016-12.png)]()  | [![LiquorStoreCount](../reports/figures/choroplethmap-liquor-store-count-2016-12.png)]() | [![BankCount](../reports/figures/choroplethmap-bank-count-2016-12.png)]() |\n",
    "|:---:|:---:|:---:|\n",
    "| Starbucks Count | Liquor Store Count| Bank Count |\n"
   ]
  },
  {
   "cell_type": "markdown",
   "metadata": {
    "slideshow": {
     "slide_type": "slide"
    }
   },
   "source": [
    "## House Value vs Household Dynamics: \n",
    "| [![HouseHomeValueIndex](../reports/figures/choroplethmap-home-value-index-2016-12.png)]()  | [![NumberOfHouseholds](../reports/figures/choroplethmap-number-of-households-2016-12.png)]() | [![HouseholdIncome](../reports/figures/choroplethmap-median-income-dollars-2016-12.png)]() |\n",
    "|:---:|:---:|:---:|\n",
    "| House Home Value Index | Number of Households | Household Median Income |\n"
   ]
  },
  {
   "cell_type": "markdown",
   "metadata": {
    "slideshow": {
     "slide_type": "slide"
    }
   },
   "source": [
    "\n",
    "## Scatter Plots: \n",
    "One of the first assumptions that we wanted to test was to verify that home prices would go up in an area as the median income increased. To check this out, we made a scatter plot of Home Value vs Median Income for each zip code in Austin for each year between 2011 and 2016 (these were the only years we had income data for). "
   ]
  },
  {
   "cell_type": "code",
   "execution_count": 3,
   "metadata": {
    "slideshow": {
     "slide_type": "skip"
    }
   },
   "outputs": [],
   "source": [
    "import seaborn as sns\n",
    "import pandas as pd\n",
    "import os, sys, inspect\n",
    "import numpy as np\n",
    "import matplotlib.pyplot as plt\n",
    "# add parent dir to system dir\n",
    "currdir = os.path.dirname(os.path.abspath(inspect.getfile(inspect.currentframe())))\n",
    "rootdir = os.path.dirname(currdir)\n",
    "sys.path.insert(0, rootdir)\n",
    "\n",
    "from src.plot import scatter\n",
    "sns.set_style(\"whitegrid\")\n",
    "\n",
    "ffname = os.path.join(rootdir, \"data\", \"int\", \"realestate_demographics.csv\")\n",
    "real_estate_info = pd.read_csv(ffname)\n",
    "real_estate_info = real_estate_info.dropna(subset=[\"Median Income (dollars)\", \"Home Value Index\"])\n",
    "real_estate_info = real_estate_info.loc[real_estate_info[\"Month\"] == 12]\n",
    "\n"
   ]
  },
  {
   "cell_type": "code",
   "execution_count": 4,
   "metadata": {
    "slideshow": {
     "slide_type": "slide"
    }
   },
   "outputs": [
    {
     "data": {
      "text/plain": [
       "Text(0.5,1,'Home Value vs Median Income, by year')"
      ]
     },
     "execution_count": 4,
     "metadata": {},
     "output_type": "execute_result"
    },
    {
     "data": {
      "image/png": "[encoded data removed]",
      "text/plain": [
       "<Figure size 493.375x432 with 1 Axes>"
      ]
     },
     "metadata": {},
     "output_type": "display_data"
    }
   ],
   "source": [
    "sns.lmplot(x=\"Median Income (dollars)\", y=\"Home Value Index\",\n",
    "           data=real_estate_info, fit_reg=False,\n",
    "           hue='Year',\n",
    "           legend=True,\n",
    "           size = 6)\n",
    "plt.title(\"Home Value vs Median Income, by year\")"
   ]
  },
  {
   "cell_type": "markdown",
   "metadata": {
    "slideshow": {
     "slide_type": "slide"
    }
   },
   "source": [
    "Another common assumption that we wanted to analyze was that a neighborhood's income level could be determined by which businesses it contained. For example, if there were more Starbucks in a neighborhood, it was likely to be a more wealthy neighborhood. Whereas, an area in which there were a lot of liquor stores was likely to be a poorer neighborhood. "
   ]
  },
  {
   "cell_type": "code",
   "execution_count": 5,
   "metadata": {
    "slideshow": {
     "slide_type": "skip"
    }
   },
   "outputs": [],
   "source": [
    "ffname = os.path.join(rootdir, \"data\", \"int\", \"realestate_demographics.csv\")\n",
    "real_estate_info = pd.read_csv(ffname)\n",
    "real_estate_info = real_estate_info.dropna(subset=[\"Starbucks Count\", \"Median Income (dollars)\"])\n",
    "real_estate_info = real_estate_info.loc[real_estate_info[\"Month\"] == 1]\n",
    "real_estate_info = real_estate_info.loc[real_estate_info[\"Year\"] == 2016]"
   ]
  },
  {
   "cell_type": "code",
   "execution_count": 6,
   "metadata": {
    "slideshow": {
     "slide_type": "slide"
    }
   },
   "outputs": [
    {
     "data": {
      "text/plain": [
       "Text(0.5,1,'Income vs Number of Starbucks')"
      ]
     },
     "execution_count": 6,
     "metadata": {},
     "output_type": "execute_result"
    },
    {
     "data": {
      "image/png": "[encoded data removed]",
      "text/plain": [
       "<Figure size 493.375x432 with 1 Axes>"
      ]
     },
     "metadata": {},
     "output_type": "display_data"
    }
   ],
   "source": [
    "sns.lmplot(x=\"Starbucks Count\", y=\"Median Income (dollars)\", data=real_estate_info, fit_reg=False, hue='Year', legend=True, size = 6)\n",
    "plt.title(\"Income vs Number of Starbucks\")"
   ]
  },
  {
   "cell_type": "code",
   "execution_count": 7,
   "metadata": {
    "slideshow": {
     "slide_type": "skip"
    }
   },
   "outputs": [],
   "source": [
    "ffname = os.path.join(rootdir, \"data\", \"int\", \"realestate_demographics.csv\")\n",
    "real_estate_info = pd.read_csv(ffname)\n",
    "real_estate_info = real_estate_info.dropna(subset=[\"Liquor Store Count\", \"Median Income (dollars)\"])\n",
    "real_estate_info = real_estate_info.loc[real_estate_info[\"Month\"] == 1]\n",
    "real_estate_info = real_estate_info.loc[real_estate_info[\"Year\"] == 2016]"
   ]
  },
  {
   "cell_type": "code",
   "execution_count": 8,
   "metadata": {
    "scrolled": false,
    "slideshow": {
     "slide_type": "slide"
    }
   },
   "outputs": [
    {
     "data": {
      "image/png": "[encoded data removed]",
      "text/plain": [
       "<Figure size 493.375x432 with 1 Axes>"
      ]
     },
     "metadata": {},
     "output_type": "display_data"
    }
   ],
   "source": [
    "sns.lmplot(x=\"Liquor Store Count\",\n",
    "           y=\"Median Income (dollars)\",\n",
    "           data=real_estate_info,\n",
    "           fit_reg=False,\n",
    "           hue='Year',\n",
    "           legend=True,\n",
    "           size = 6)\n",
    "_ = plt.title(\"Income vs Number of Liquor Stores\")"
   ]
  },
  {
   "cell_type": "markdown",
   "metadata": {
    "slideshow": {
     "slide_type": "slide"
    }
   },
   "source": [
    "However, based on the Austin area, both hypotheses seem to have been disproven as there appears to be little or no correlation between income and the number of these types of businesses in a given zip code. "
   ]
  },
  {
   "cell_type": "markdown",
   "metadata": {
    "slideshow": {
     "slide_type": "slide"
    }
   },
   "source": [
    "Another element of the housing market that we wanted to investigate was the effect of new construction on the prices in a zip code. To start this analysis, we wanted to look at general trends in the amount of construction over time. "
   ]
  },
  {
   "cell_type": "code",
   "execution_count": 9,
   "metadata": {
    "slideshow": {
     "slide_type": "slide"
    }
   },
   "outputs": [
    {
     "data": {
      "image/png": "[encoded data removed]",
      "text/plain": [
       "<Figure size 1296x432 with 1 Axes>"
      ]
     },
     "metadata": {},
     "output_type": "display_data"
    }
   ],
   "source": [
    "ffname = os.path.join(rootdir, \"data\", \"int\", \"realestate_demographics.csv\")\n",
    "real_estate_info = pd.read_csv(ffname)\n",
    "real_estate_info = real_estate_info.dropna(subset=[\"Total_NewConstructions\", \"Total_RemodelsRepairs\"])\n",
    "\n",
    "real_estate_info[\"Total_Construction\"] = real_estate_info[\"Total_NewConstructions\"] + real_estate_info[\"Total_RemodelsRepairs\"]\n",
    "\n",
    "fig, ax = plt.subplots(figsize=(18, 6))\n",
    "_ =sns.barplot(x=\"Year\", y=\"Total_Construction\", data=real_estate_info, ax=ax)"
   ]
  },
  {
   "cell_type": "markdown",
   "metadata": {
    "slideshow": {
     "slide_type": "slide"
    }
   },
   "source": [
    "\n",
    "## Bar Plots: "
   ]
  },
  {
   "cell_type": "code",
   "execution_count": 10,
   "metadata": {},
   "outputs": [],
   "source": [
    "import os, sys, inspect\n",
    "import numpy as np\n",
    "import matplotlib.pyplot as plt\n",
    "# add parent dir to system dir\n",
    "currdir = os.path.dirname(os.path.abspath(inspect.getfile(inspect.currentframe())))\n",
    "rootdir = os.path.dirname(currdir)\n",
    "sys.path.insert(0, rootdir)\n",
    "\n",
    "from src.plot import bar\n",
    "import pandas as pd"
   ]
  },
  {
   "cell_type": "code",
   "execution_count": 11,
   "metadata": {},
   "outputs": [
    {
     "ename": "NameError",
     "evalue": "name 'data' is not defined",
     "output_type": "error",
     "traceback": [
      "\u001b[0;31m---------------------------------------------------------------------------\u001b[0m",
      "\u001b[0;31mNameError\u001b[0m                                 Traceback (most recent call last)",
      "\u001b[0;32m<ipython-input-11-f440ea420ead>\u001b[0m in \u001b[0;36m<module>\u001b[0;34m()\u001b[0m\n\u001b[1;32m      2\u001b[0m \u001b[0mffname\u001b[0m \u001b[0;34m=\u001b[0m \u001b[0mos\u001b[0m\u001b[0;34m.\u001b[0m\u001b[0mpath\u001b[0m\u001b[0;34m.\u001b[0m\u001b[0mjoin\u001b[0m\u001b[0;34m(\u001b[0m\u001b[0mrootdir\u001b[0m\u001b[0;34m,\u001b[0m \u001b[0;34m\"data\"\u001b[0m\u001b[0;34m,\u001b[0m \u001b[0;34m\"int\"\u001b[0m\u001b[0;34m,\u001b[0m \u001b[0;34m\"realestate_demographics.csv\"\u001b[0m\u001b[0;34m)\u001b[0m\u001b[0;34m\u001b[0m\u001b[0m\n\u001b[1;32m      3\u001b[0m \u001b[0;31m# Reading the file\u001b[0m\u001b[0;34m\u001b[0m\u001b[0;34m\u001b[0m\u001b[0m\n\u001b[0;32m----> 4\u001b[0;31m \u001b[0mdf_data\u001b[0m \u001b[0;34m=\u001b[0m \u001b[0mpd\u001b[0m\u001b[0;34m.\u001b[0m\u001b[0mread_csv\u001b[0m\u001b[0;34m(\u001b[0m\u001b[0mdata\u001b[0m\u001b[0;34m)\u001b[0m\u001b[0;34m\u001b[0m\u001b[0m\n\u001b[0m",
      "\u001b[0;31mNameError\u001b[0m: name 'data' is not defined"
     ]
    }
   ],
   "source": [
    "# Importing file\n",
    "ffname = os.path.join(rootdir, \"data\", \"int\", \"realestate_demographics.csv\")\n",
    "# Reading the file\n",
    "df_data = pd.read_csv(ffname)"
   ]
  },
  {
   "cell_type": "code",
   "execution_count": null,
   "metadata": {},
   "outputs": [],
   "source": []
  },
  {
   "cell_type": "markdown",
   "metadata": {
    "slideshow": {
     "slide_type": "slide"
    }
   },
   "source": [
    "\n",
    "## Home Value and Construction Dynamics\n",
    "Analyse home value and construction dynamics within 5 most expensive/cheapest Neighborhoods:"
   ]
  },
  {
   "cell_type": "code",
   "execution_count": null,
   "metadata": {},
   "outputs": [],
   "source": [
    "bar_plot_2 = df_data[[\"Zip Code\", \"Year\", \"Month\", \"Home Value Index\", \"Total_NewConstructions\"]]\n",
    "year_select = 2018\n",
    "# month_select = 4\n",
    "plot_2 = bar_plot_2.loc[bar_plot_2[\"Year\"]==year_select]\n",
    "\n",
    "# Group by zip code and year\n",
    "bar_plot_g2 = plot_2.groupby([\"Year\", \"Zip Code\"])\n",
    "sort_bar2 = bar_plot_g2.mean().sort_values([\"Home Value Index\"], ascending=False, inplace=False)\n",
    "sort_top_5 = sort_bar2.loc[:,[\"Home Value Index\", \"Total_NewConstructions\"]].head()\n",
    "home_value = sort_top_5[\"Home Value Index\"]\n",
    "tot_const = sort_top_5[\"Total_NewConstructions\"]*4 #Because we got the mean of constructions and we need total"
   ]
  },
  {
   "cell_type": "code",
   "execution_count": null,
   "metadata": {},
   "outputs": [],
   "source": [
    "# plot bar charts \n",
    "figsize = (20, 12)\n",
    "fig = plt.figure(figsize=figsize)\n",
    "ax1 = fig.subplots(1, 1)\n",
    "\n",
    "# labels = bar_plot_g2.mean().head().index.values\n",
    "labels = sort_top_5.head().index.values\n",
    "x = np.arange(len(labels))\n",
    "width = 0.3\n",
    "height = home_value\n",
    "height2 = tot_const\n",
    "\n",
    "title = \"Top 5 Most Expensive Zip Codes\"\n",
    "ylabel = f\"Home Value for {year_select} ($)\"\n",
    "ylabel2 = f\"Number of Construction for {year_select}\"\n",
    "\n",
    "plt.ylim(0,900000)\n",
    "\n",
    "bar(height, ticklabels=labels,\n",
    "    ylabel=ylabel,\n",
    "    ax=ax1, title=title, width=width, \n",
    "    x=x)\n",
    "\n",
    "ax2 = ax1.twinx()\n",
    "# ax2.text(labels, height2, s=\"{:2.0f}\".format(height2), horizontalalignment=\"center\")\n",
    "bar(height2, ticklabels=labels,\n",
    "    ylabel=ylabel2,\n",
    "    ax=ax2, title=title, width=width, \n",
    "    x=x+width, color=\"orange\", aligh=\"center\", labelcolor=\"black\")\n",
    "\n",
    "ax2.set_ylim(0, 140)\n",
    "\n",
    "plt.savefig(\"../Reports/Figures/ZHVI_vs_construction-top.png\")"
   ]
  },
  {
   "cell_type": "code",
   "execution_count": null,
   "metadata": {},
   "outputs": [],
   "source": [
    "sort_bar2 = bar_plot_g2.mean().sort_values([\"Home Value Index\"], ascending=False, inplace=False)\n",
    "sort_bot_5 = sort_bar2.loc[:,[\"Home Value Index\", \"Total_NewConstructions\"]].tail()\n",
    "home_value = sort_bot_5[\"Home Value Index\"]\n",
    "tot_const = sort_bot_5[\"Total_NewConstructions\"]*4 #Because we got the mean of constructions"
   ]
  },
  {
   "cell_type": "code",
   "execution_count": null,
   "metadata": {},
   "outputs": [],
   "source": [
    "figsize = (20, 10)\n",
    "fig = plt.figure(figsize=figsize)\n",
    "ax1 = fig.subplots(1, 1)\n",
    "\n",
    "# labels = bar_plot_g2.mean().head().index.values\n",
    "labels = sort_top_5.tail().index.values\n",
    "x = np.arange(len(labels))\n",
    "width = 0.3\n",
    "height = home_value\n",
    "height2 = tot_const\n",
    "\n",
    "title = \"Bottom 5 Cheapest Zip Codes\"\n",
    "ylabel = f\"Home Value for {year_select} ($)\"\n",
    "ylabel2 = f\"Number of Construction for {year_select}\"\n",
    "\n",
    "plt.ylim(0,900000)\n",
    "\n",
    "bar(height, ticklabels=labels,\n",
    "    ylabel=ylabel,\n",
    "    ax=ax1, title=title, width=width, \n",
    "    x=x)\n",
    "\n",
    "ax2 = ax1.twinx()\n",
    "# ax2.text(labels, height2, s=\"{:2.0f}\".format(height2), horizontalalignment=\"center\")\n",
    "bar(height2, ticklabels=labels,\n",
    "    ax=ax2, ylabel=ylabel2, title=title, width=width, \n",
    "    x=x+width, color=\"orange\", aligh=\"center\", labelcolor=\"black\")\n",
    "\n",
    "ax2.set_ylim(0, 140)\n",
    "\n",
    "plt.savefig(\"../Reports/Figures/ZHVI_vs_construction-bottom.png\")"
   ]
  },
  {
   "cell_type": "code",
   "execution_count": null,
   "metadata": {},
   "outputs": [],
   "source": [
    "# bar_plot_1 = df_data[[\"Zip Code\", \"Year\", \"Month\", \"Home Value Index\", \"Median Income (dollars)\"]]\n",
    "bar_plot_4 = df_data[[\"Zip Code\", \"Year\", \"Month\", \"Home Value Index\", \"School Rating(GS)\"]]\n",
    "bar_plot_4.head()"
   ]
  },
  {
   "cell_type": "code",
   "execution_count": null,
   "metadata": {},
   "outputs": [],
   "source": [
    "year_select = 2018\n",
    "# month_select = 4\n",
    "plot_4 = bar_plot_4.loc[bar_plot_4[\"Year\"]==year_select]\n",
    "plot_4.head()"
   ]
  },
  {
   "cell_type": "code",
   "execution_count": null,
   "metadata": {},
   "outputs": [],
   "source": [
    "# Group by zip code and year\n",
    "bar_plot_g4 = plot_4.groupby([\"Year\", \"Zip Code\"])\n",
    "\n",
    "sort_bar4 = bar_plot_g4.mean().sort_values([\"Home Value Index\"], ascending=False, inplace=False)\n",
    "sort_top_5_2 = sort_bar4.loc[:,[\"Home Value Index\", \"School Rating(GS)\"]].head()\n",
    "home_value = sort_top_5_2[\"Home Value Index\"]\n",
    "sch_rating = sort_top_5_2[\"School Rating(GS)\"]\n",
    "sort_top_5_2"
   ]
  },
  {
   "cell_type": "code",
   "execution_count": null,
   "metadata": {},
   "outputs": [],
   "source": [
    "figsize = (20, 12)\n",
    "fig = plt.figure(figsize=figsize)\n",
    "ax1 = fig.subplots(1, 1)\n",
    "\n",
    "# labels = bar_plot_g2.mean().head().index.values\n",
    "labels = sort_top_5_2.head().index.values\n",
    "x = np.arange(len(labels))\n",
    "width = 0.3\n",
    "height = home_value\n",
    "height2 = sch_rating\n",
    "\n",
    "title = \"Top 5 Most Expensive Zip Codes\"\n",
    "ylabel = f\"Home Value for {year_select} ($)\"\n",
    "ylabel2 = f\"School Rating for {year_select} ($)\"\n",
    "\n",
    "plt.ylim(0,900000)\n",
    "\n",
    "bar(height, ticklabels=labels,\n",
    "    ylabel=ylabel,\n",
    "    ax=ax1, title=title, width=width, \n",
    "    x=x)\n",
    "ax2 = ax1.twinx()\n",
    "# ax2.text(labels, height2, s=\"{:2.0f}\".format(height2), horizontalalignment=\"center\")\n",
    "bar(height2, ticklabels=labels,\n",
    "    ylabel=ylabel2,\n",
    "    ax=ax2, title=title, width=width, \n",
    "    x=x+width, color=\"green\")\n",
    "ax2.set_ylim(0, 10)\n",
    "\n",
    "plt.savefig(\"../Reports/Figures/ZHVI_vs_SchoolRaitings-top.png\")"
   ]
  },
  {
   "cell_type": "code",
   "execution_count": null,
   "metadata": {},
   "outputs": [],
   "source": [
    "sort_bot_5_2 = sort_bar4.loc[:,[\"Home Value Index\", \"School Rating(GS)\"]].tail()\n",
    "home_value = sort_bot_5_2[\"Home Value Index\"]\n",
    "sch_rating = sort_bot_5_2[\"School Rating(GS)\"]\n",
    "sort_bot_5_2"
   ]
  },
  {
   "cell_type": "code",
   "execution_count": null,
   "metadata": {},
   "outputs": [],
   "source": [
    "figsize = (20, 12)\n",
    "fig = plt.figure(figsize=figsize)\n",
    "ax1 = fig.subplots(1, 1)\n",
    "\n",
    "# labels = bar_plot_g2.mean().head().index.values\n",
    "labels = sort_top_5_2.tail().index.values\n",
    "x = np.arange(len(labels))\n",
    "width = 0.3\n",
    "height = home_value\n",
    "height2 = sch_rating\n",
    "\n",
    "title = \"Top 5 Cheapest Zip Codes\"\n",
    "ylabel = f\"Home Value for {year_select} ($)\"\n",
    "ylabel2 = f\"School Rating for {year_select} ($)\"\n",
    "\n",
    "plt.ylim(0,900000)\n",
    "\n",
    "bar(height, ticklabels=labels,\n",
    "    ylabel=ylabel,\n",
    "    ax=ax1, title=title, width=width, \n",
    "    x=x)\n",
    "\n",
    "ax2 = ax1.twinx()\n",
    "# ax2.text(labels, height2, s=\"{:2.0f}\".format(height2), horizontalalignment=\"center\")\n",
    "bar(height2, ticklabels=labels,\n",
    "    ylabel=ylabel2,\n",
    "    ax=ax2, title=title, width=width, \n",
    "    x=x+width, color=\"green\")\n",
    "ax2.set_ylim(0, 10)\n",
    "\n",
    "plt.savefig(\"../Reports/Figures/ZHVI_vs_SchoolRaitings-bottom.png\")"
   ]
  },
  {
   "cell_type": "code",
   "execution_count": null,
   "metadata": {},
   "outputs": [],
   "source": [
    "# bar_plot_1 = df_data[[\"Zip Code\", \"Year\", \"Month\", \"Home Value Index\", \"Median Income (dollars)\"]]\n",
    "bar_plot_5 = df_data[[\"Zip Code\", \"Year\", \"Month\", \"Home Value Index\", \"Median Income (dollars)\"]]\n",
    "bar_plot_5.head()"
   ]
  },
  {
   "cell_type": "code",
   "execution_count": null,
   "metadata": {},
   "outputs": [],
   "source": [
    "year_select = 2016\n",
    "month_select = 1\n",
    "plot_5 = bar_plot_5.loc[bar_plot_5[\"Year\"]==year_select]\n",
    "plot_5.head()"
   ]
  },
  {
   "cell_type": "code",
   "execution_count": null,
   "metadata": {},
   "outputs": [],
   "source": [
    "# Group by zip code and year\n",
    "bar_plot_g5 = plot_5.groupby([\"Year\", \"Zip Code\"])\n",
    "\n",
    "sort_bar5 = bar_plot_g5.mean().sort_values([\"Home Value Index\"], ascending=False, inplace=False)\n",
    "sort_top_5_3 = sort_bar5.loc[:,[\"Home Value Index\", \"Median Income (dollars)\"]].head()\n",
    "home_value = sort_top_5_3[\"Home Value Index\"]\n",
    "med_inc = sort_top_5_3[\"Median Income (dollars)\"]\n",
    "sort_top_5_3"
   ]
  },
  {
   "cell_type": "code",
   "execution_count": null,
   "metadata": {},
   "outputs": [],
   "source": [
    "figsize = (20, 12)\n",
    "fig = plt.figure(figsize=figsize)\n",
    "ax1 = fig.subplots(1, 1)\n",
    "\n",
    "# labels = bar_plot_g2.mean().head().index.values\n",
    "labels = sort_top_5_3.head().index.values\n",
    "x = np.arange(len(labels))\n",
    "width = 0.3\n",
    "height = home_value\n",
    "height2 = med_inc\n",
    "\n",
    "title = \"Top 5 Most Expensive Zip Codes\"\n",
    "ylabel = f\"Home Value for {year_select} ($)\"\n",
    "ylabel2 = f\"Median Income for {year_select} ($)\"\n",
    "\n",
    "plt.ylim(0,900000)\n",
    "\n",
    "bar(height, ticklabels=labels,\n",
    "    ylabel=ylabel,\n",
    "    ax=ax1, title=title, width=width, \n",
    "    x=x)\n",
    "ax2 = ax1.twinx()\n",
    "# ax2.text(labels, height2, s=\"{:2.0f}\".format(height2), horizontalalignment=\"center\")\n",
    "bar(height2, ticklabels=labels,\n",
    "    ylabel=ylabel2,\n",
    "    ax=ax2, title=title, width=width, \n",
    "    x=x+width, color=\"red\")\n",
    "ax2.set_ylim(0, 133000)\n",
    "\n",
    "plt.savefig(\"../Reports/Figures/ZHVI_vs_HouseholdIncome-top.png\")"
   ]
  },
  {
   "cell_type": "code",
   "execution_count": null,
   "metadata": {},
   "outputs": [],
   "source": [
    "sort_top_5_3 = sort_bar5.loc[:,[\"Home Value Index\", \"Median Income (dollars)\"]].tail()\n",
    "home_value = sort_top_5_3[\"Home Value Index\"]\n",
    "med_inc = sort_top_5_3[\"Median Income (dollars)\"]\n",
    "sort_top_5_3"
   ]
  },
  {
   "cell_type": "code",
   "execution_count": null,
   "metadata": {},
   "outputs": [],
   "source": [
    "figsize = (20, 12)\n",
    "fig = plt.figure(figsize=figsize)\n",
    "ax1 = fig.subplots(1, 1)\n",
    "\n",
    "# labels = bar_plot_g2.mean().head().index.values\n",
    "labels = sort_top_5_3.head().index.values\n",
    "x = np.arange(len(labels))\n",
    "width = 0.3\n",
    "height = home_value\n",
    "height2 = med_inc\n",
    "\n",
    "title = \"Top 5 Most Expensive Zip Codes\"\n",
    "ylabel = f\"Home Value for {year_select} ($)\"\n",
    "ylabel2 = f\"Median Income for {year_select} ($)\"\n",
    "\n",
    "plt.ylim(0,900000)\n",
    "\n",
    "bar(height, ticklabels=labels,\n",
    "    ylabel=ylabel,\n",
    "    ax=ax1, title=title, width=width, \n",
    "    x=x)\n",
    "ax2 = ax1.twinx()\n",
    "# ax2.text(labels, height2, s=\"{:2.0f}\".format(height2), horizontalalignment=\"center\")\n",
    "bar(height2, ticklabels=labels,\n",
    "    ylabel=ylabel2,\n",
    "    ax=ax2, title=title, width=width, \n",
    "    x=x+width, color=\"red\")\n",
    "ax2.set_ylim(0, 133000)\n",
    "\n",
    "plt.savefig(\"../Reports/Figures/ZHVI_vs_HouseholdIncome-bottom.png\")"
   ]
  },
  {
   "cell_type": "markdown",
   "metadata": {
    "slideshow": {
     "slide_type": "slide"
    }
   },
   "source": [
    "\n",
    "## House Price Prediction"
   ]
  },
  {
   "cell_type": "code",
   "execution_count": null,
   "metadata": {},
   "outputs": [],
   "source": []
  }
 ],
 "metadata": {
  "celltoolbar": "Slideshow",
  "kernelspec": {
   "display_name": "Python [conda env:08-project-one]",
   "language": "python",
   "name": "conda-env-08-project-one-py"
  },
  "language_info": {
   "codemirror_mode": {
    "name": "ipython",
    "version": 3
   },
   "file_extension": ".py",
   "mimetype": "text/x-python",
   "name": "python",
   "nbconvert_exporter": "python",
   "pygments_lexer": "ipython3",
   "version": "3.6.5"
  }
 },
 "nbformat": 4,
 "nbformat_minor": 2
}
