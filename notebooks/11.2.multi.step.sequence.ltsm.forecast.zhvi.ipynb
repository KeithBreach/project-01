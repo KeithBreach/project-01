{
 "cells": [
  {
   "cell_type": "code",
   "execution_count": 1,
   "metadata": {},
   "outputs": [
    {
     "name": "stderr",
     "output_type": "stream",
     "text": [
      "Using TensorFlow backend.\n"
     ]
    }
   ],
   "source": [
    "import pandas as pd\n",
    "import numpy as np\n",
    "import os, sys, inspect\n",
    "import matplotlib as mpl\n",
    "import matplotlib.pyplot as plt\n",
    "from sklearn.preprocessing import MinMaxScaler\n",
    "from sklearn.metrics import mean_squared_error\n",
    "from keras.models import Sequential\n",
    "from keras.layers import Dense\n",
    "from keras.layers import LSTM\n",
    "\n",
    "# add parent dir to system dir\n",
    "currdir = os.path.dirname(os.path.abspath(inspect.getfile(inspect.currentframe())))\n",
    "rootdir = os.path.dirname(currdir)\n",
    "sys.path.insert(0, rootdir)\n",
    "mpl.style.use(\"seaborn\")\n",
    "from src.utils import get_temporal_data, get_spatial_data\n",
    "from src.utils import create_difference_sequence\n",
    "from src.utils import series_to_supervised"
   ]
  },
  {
   "cell_type": "code",
   "execution_count": 2,
   "metadata": {},
   "outputs": [
    {
     "data": {
      "text/html": [
       "<div>\n",
       "<style scoped>\n",
       "    .dataframe tbody tr th:only-of-type {\n",
       "        vertical-align: middle;\n",
       "    }\n",
       "\n",
       "    .dataframe tbody tr th {\n",
       "        vertical-align: top;\n",
       "    }\n",
       "\n",
       "    .dataframe thead th {\n",
       "        text-align: right;\n",
       "    }\n",
       "</style>\n",
       "<table border=\"1\" class=\"dataframe\">\n",
       "  <thead>\n",
       "    <tr style=\"text-align: right;\">\n",
       "      <th></th>\n",
       "      <th>Zip Code</th>\n",
       "      <th>Year</th>\n",
       "      <th>Month</th>\n",
       "      <th>Home Value Index</th>\n",
       "      <th>Median Listing Price</th>\n",
       "      <th>Median Listing Price Per sqf</th>\n",
       "      <th>Sales</th>\n",
       "      <th>Median Income (dollars)</th>\n",
       "      <th>Number of Households</th>\n",
       "      <th>School Rating (Parent)</th>\n",
       "      <th>...</th>\n",
       "      <th>Liquor Store Count</th>\n",
       "      <th>Wal-Mart Count</th>\n",
       "      <th>Starbucks Count</th>\n",
       "      <th>Target Count</th>\n",
       "      <th>Inventory Measure</th>\n",
       "      <th>Median Price Cut</th>\n",
       "      <th>Median Price of Reduction</th>\n",
       "      <th>Median Rental Price</th>\n",
       "      <th>Latitude</th>\n",
       "      <th>Longitude</th>\n",
       "    </tr>\n",
       "  </thead>\n",
       "  <tbody>\n",
       "    <tr>\n",
       "      <th>0</th>\n",
       "      <td>78701</td>\n",
       "      <td>1996</td>\n",
       "      <td>4</td>\n",
       "      <td>152500.0</td>\n",
       "      <td>NaN</td>\n",
       "      <td>NaN</td>\n",
       "      <td>NaN</td>\n",
       "      <td>NaN</td>\n",
       "      <td>NaN</td>\n",
       "      <td>2.8</td>\n",
       "      <td>...</td>\n",
       "      <td>61</td>\n",
       "      <td>1</td>\n",
       "      <td>29</td>\n",
       "      <td>7</td>\n",
       "      <td>NaN</td>\n",
       "      <td>NaN</td>\n",
       "      <td>NaN</td>\n",
       "      <td>NaN</td>\n",
       "      <td>30.272921</td>\n",
       "      <td>-97.744386</td>\n",
       "    </tr>\n",
       "    <tr>\n",
       "      <th>1</th>\n",
       "      <td>78701</td>\n",
       "      <td>1996</td>\n",
       "      <td>5</td>\n",
       "      <td>153600.0</td>\n",
       "      <td>NaN</td>\n",
       "      <td>NaN</td>\n",
       "      <td>NaN</td>\n",
       "      <td>NaN</td>\n",
       "      <td>NaN</td>\n",
       "      <td>2.8</td>\n",
       "      <td>...</td>\n",
       "      <td>61</td>\n",
       "      <td>1</td>\n",
       "      <td>29</td>\n",
       "      <td>7</td>\n",
       "      <td>NaN</td>\n",
       "      <td>NaN</td>\n",
       "      <td>NaN</td>\n",
       "      <td>NaN</td>\n",
       "      <td>30.272921</td>\n",
       "      <td>-97.744386</td>\n",
       "    </tr>\n",
       "    <tr>\n",
       "      <th>2</th>\n",
       "      <td>78701</td>\n",
       "      <td>1996</td>\n",
       "      <td>6</td>\n",
       "      <td>154600.0</td>\n",
       "      <td>NaN</td>\n",
       "      <td>NaN</td>\n",
       "      <td>NaN</td>\n",
       "      <td>NaN</td>\n",
       "      <td>NaN</td>\n",
       "      <td>2.8</td>\n",
       "      <td>...</td>\n",
       "      <td>61</td>\n",
       "      <td>1</td>\n",
       "      <td>29</td>\n",
       "      <td>7</td>\n",
       "      <td>NaN</td>\n",
       "      <td>NaN</td>\n",
       "      <td>NaN</td>\n",
       "      <td>NaN</td>\n",
       "      <td>30.272921</td>\n",
       "      <td>-97.744386</td>\n",
       "    </tr>\n",
       "    <tr>\n",
       "      <th>3</th>\n",
       "      <td>78701</td>\n",
       "      <td>1996</td>\n",
       "      <td>7</td>\n",
       "      <td>155500.0</td>\n",
       "      <td>NaN</td>\n",
       "      <td>NaN</td>\n",
       "      <td>NaN</td>\n",
       "      <td>NaN</td>\n",
       "      <td>NaN</td>\n",
       "      <td>2.8</td>\n",
       "      <td>...</td>\n",
       "      <td>61</td>\n",
       "      <td>1</td>\n",
       "      <td>29</td>\n",
       "      <td>7</td>\n",
       "      <td>NaN</td>\n",
       "      <td>NaN</td>\n",
       "      <td>NaN</td>\n",
       "      <td>NaN</td>\n",
       "      <td>30.272921</td>\n",
       "      <td>-97.744386</td>\n",
       "    </tr>\n",
       "    <tr>\n",
       "      <th>4</th>\n",
       "      <td>78701</td>\n",
       "      <td>1996</td>\n",
       "      <td>8</td>\n",
       "      <td>156300.0</td>\n",
       "      <td>NaN</td>\n",
       "      <td>NaN</td>\n",
       "      <td>NaN</td>\n",
       "      <td>NaN</td>\n",
       "      <td>NaN</td>\n",
       "      <td>2.8</td>\n",
       "      <td>...</td>\n",
       "      <td>61</td>\n",
       "      <td>1</td>\n",
       "      <td>29</td>\n",
       "      <td>7</td>\n",
       "      <td>NaN</td>\n",
       "      <td>NaN</td>\n",
       "      <td>NaN</td>\n",
       "      <td>NaN</td>\n",
       "      <td>30.272921</td>\n",
       "      <td>-97.744386</td>\n",
       "    </tr>\n",
       "  </tbody>\n",
       "</table>\n",
       "<p>5 rows × 28 columns</p>\n",
       "</div>"
      ],
      "text/plain": [
       "   Zip Code  Year  Month  Home Value Index  Median Listing Price  \\\n",
       "0     78701  1996      4          152500.0                   NaN   \n",
       "1     78701  1996      5          153600.0                   NaN   \n",
       "2     78701  1996      6          154600.0                   NaN   \n",
       "3     78701  1996      7          155500.0                   NaN   \n",
       "4     78701  1996      8          156300.0                   NaN   \n",
       "\n",
       "   Median Listing Price Per sqf  Sales  Median Income (dollars)  \\\n",
       "0                           NaN    NaN                      NaN   \n",
       "1                           NaN    NaN                      NaN   \n",
       "2                           NaN    NaN                      NaN   \n",
       "3                           NaN    NaN                      NaN   \n",
       "4                           NaN    NaN                      NaN   \n",
       "\n",
       "   Number of Households  School Rating (Parent)    ...      \\\n",
       "0                   NaN                     2.8    ...       \n",
       "1                   NaN                     2.8    ...       \n",
       "2                   NaN                     2.8    ...       \n",
       "3                   NaN                     2.8    ...       \n",
       "4                   NaN                     2.8    ...       \n",
       "\n",
       "   Liquor Store Count  Wal-Mart Count  Starbucks Count  Target Count  \\\n",
       "0                  61               1               29             7   \n",
       "1                  61               1               29             7   \n",
       "2                  61               1               29             7   \n",
       "3                  61               1               29             7   \n",
       "4                  61               1               29             7   \n",
       "\n",
       "   Inventory Measure  Median Price Cut  Median Price of Reduction  \\\n",
       "0                NaN               NaN                        NaN   \n",
       "1                NaN               NaN                        NaN   \n",
       "2                NaN               NaN                        NaN   \n",
       "3                NaN               NaN                        NaN   \n",
       "4                NaN               NaN                        NaN   \n",
       "\n",
       "   Median Rental Price   Latitude  Longitude  \n",
       "0                  NaN  30.272921 -97.744386  \n",
       "1                  NaN  30.272921 -97.744386  \n",
       "2                  NaN  30.272921 -97.744386  \n",
       "3                  NaN  30.272921 -97.744386  \n",
       "4                  NaN  30.272921 -97.744386  \n",
       "\n",
       "[5 rows x 28 columns]"
      ]
     },
     "execution_count": 2,
     "metadata": {},
     "output_type": "execute_result"
    }
   ],
   "source": [
    "ffname_realestate = os.path.join(rootdir, \"data\", \"int\", \"realestate_demographics.csv\")\n",
    "realestate_df = pd.read_csv(ffname_realestate)\n",
    "\n",
    "ffname_zipcodes = os.path.join(rootdir, \"data\", \"int\", \"zip_codes.csv\")\n",
    "zipcode_df = pd.read_csv(ffname_zipcodes)\n",
    "# zipcode_df.insert(loc=0, column=\"78701\", value=78701)\n",
    "# zipcode_df = zipcode_df.rename(columns={\"78701\": \"Zip Code\"})\n",
    "# zipcode_df.loc[40, \"Zip Code\"] = 78701\n",
    "# zipcode_df.astype(int, inplace=True)\n",
    "# zipcode_df.sort_values(by=[\"Zip Code\"], inplace=True)\n",
    "# zipcode_df.reset_index(inplace=True)\n",
    "# zipcode_df.to_csv(ffname_zipcodes, columns=[\"Zip Code\"], index=False\n",
    "realestate_df.head()"
   ]
  },
  {
   "cell_type": "code",
   "execution_count": 3,
   "metadata": {},
   "outputs": [],
   "source": [
    "period = [2011, 2017]\n",
    "# \n",
    "# set plot params\n",
    "figsize = (15, 30)\n",
    "titlefontsize = 20\n",
    "xtickfontsize = 17\n",
    "ytickfontsize = 17\n",
    "legendfontsize = 19\n",
    "\n",
    "columns = [\"Median Listing Price Per sqf\",\n",
    "           \"Median Price Cut\",\n",
    "           \"Median Price of Reduction\",\n",
    "           \"Inventory Measure\",\n",
    "           \"Mortgage Rate_15\",\n",
    "           \"Mortgage Rate_30\",\n",
    "           \"Total_NewConstructions\",\n",
    "           \"Total_RemodelsRepairs\",]\n",
    "zipcodes = [78703, 78704, 78717, 78726, 78731,\n",
    "            78746, 78747, 78748, 78750, 78753]"
   ]
  },
  {
   "cell_type": "code",
   "execution_count": 90,
   "metadata": {},
   "outputs": [
    {
     "name": "stdout",
     "output_type": "stream",
     "text": [
      "ploting processed trends for 78703...completed.\n",
      "ploting processed trends for 78704...completed.\n",
      "ploting processed trends for 78717...completed.\n",
      "ploting processed trends for 78726...completed.\n",
      "ploting processed trends for 78731...completed.\n",
      "ploting processed trends for 78746...completed.\n",
      "ploting processed trends for 78747...completed.\n",
      "ploting processed trends for 78748...completed.\n",
      "ploting processed trends for 78750...completed.\n",
      "ploting processed trends for 78753...completed.\n"
     ]
    }
   ],
   "source": [
    "# preprcess data: trim and fill\n",
    "df = pd.DataFrame()\n",
    "for i, zipcode in enumerate(zipcodes):\n",
    "    print(f\"ploting processed trends for {zipcode}...\", end=\"\")\n",
    "    zipcode_df = get_temporal_data(zipcode, realestate_df)\n",
    "    zipcode_df = zipcode_df[[\"Zip Code\", \"Year\", \"Month\"] + columns] \n",
    "    zipcode_df = zipcode_df[(zipcode_df[\"Year\"] >= period[0]).values &\n",
    "                            (zipcode_df[\"Year\"] < period[1]).values]\n",
    "    # fill missing values with previous enteires\n",
    "    zipcode_df.fillna(method='ffill', inplace=True)\n",
    "    \n",
    "    time_stamp = zipcode_df[[\"Year\", \"Month\"]].astype(str).apply(lambda x: \"-\".join(x), axis=1)\n",
    "    time_stamp = zipcode_df[\"Year\"].astype(str)\n",
    "    \n",
    "    # get all zipcode values\n",
    "    df = df.append(zipcode_df, ignore_index=False)\n",
    "#     data = np.concatenate(data, zipcode_df[columns].values)\n",
    "    \n",
    "    \n",
    "    fig = plt.figure(figsize=figsize)\n",
    "    ax = fig.subplots(len(columns), 1)\n",
    "\n",
    "    for i, column in enumerate(columns):\n",
    "\n",
    "        if column in [\n",
    "            \"Home Value Index\",\n",
    "            \"Median Listing Price Per sqf\",\n",
    "            \"Median Listing Price\",\n",
    "            \"Median Price Cut\",\n",
    "            \"Median Price of Reduction\",\n",
    "            \"Median Rental Price\",]:\n",
    "            color = \"violet\"\n",
    "        elif column in [\n",
    "            \"Inventory Measure\",\n",
    "            \"Sales\",]:\n",
    "            color = \"coral\"\n",
    "        elif column in [\n",
    "            \"Mortgage Rate_15\",\n",
    "            \"Mortgage Rate_30\",]:\n",
    "            color = \"red\"\n",
    "        elif column in [\n",
    "            \"Total_NewConstructions\",\n",
    "            \"Total_RemodelsRepairs\",\n",
    "            \"TotalCost_NewConstructions\",]:\n",
    "            color = \"tan\"\n",
    "        elif column in [\n",
    "            \"Median Income (dollars)\",\n",
    "            \"Number of Households\",]:\n",
    "            color = \"green\"\n",
    "\n",
    "        ax[i].plot(np.arange(0, zipcode_df.shape[0]), zipcode_df[column].values, color=color, label=column)\n",
    "        ax[i].set_xlim([0, zipcode_df.shape[0]])\n",
    "        ax[i].tick_params(\n",
    "            axis='x',          # changes apply to the x-axis\n",
    "            which='both',      # both major and minor ticks are affected\n",
    "            bottom=True,      # ticks along the bottom edge are off\n",
    "            top=False,         # ticks along the top edge are off\n",
    "            labelbottom=False,  # # labels along the bottom edge are off\n",
    "            length=5,\n",
    "            width=2,\n",
    "        )\n",
    "        ax[i].tick_params(\n",
    "            axis='y',    \n",
    "            labelsize=ytickfontsize)\n",
    "\n",
    "        if column in [\"Home Value Index\", \"Median Listing Price\", \"TotalCost_NewConstructions\",\n",
    "                      \"Median Income (dollars)\", \"Median Price Cut\",]:\n",
    "            yticks_ = [\"{:3,.0f}K\".format(elem) for elem in  ax[i].get_yticks()/1000]\n",
    "            ax[i].set_yticklabels(yticks_)\n",
    "\n",
    "        if column in [\"Number of Households\"]:\n",
    "            yticks_ = [\"{:2.1f}K\".format(elem) for elem in  ax[i].get_yticks()/1000]\n",
    "            ax[i].set_yticklabels(yticks_)\n",
    "        ax[i].set_xticks(np.arange(0, zipcode_df.shape[0])[::12])\n",
    "\n",
    "    #     ax[i].grid(True, 'major', color='snow', linestyle='-', linewidth=0.5, axis=\"y\")\n",
    "    #     ax[i].grid(True, 'minor', color='snow', linestyle='-', linewidth=0.5, axis=\"y\")\n",
    "    #     ax[i].patch.set_facecolor('gainsboro')\n",
    "        ax[i].legend(loc=\"upper center\", fontsize=legendfontsize, framealpha=0.1)\n",
    "\n",
    "    ax[i].set_xticks(np.arange(0, zipcode_df.shape[0])[::12])\n",
    "    ax[i].set_xticklabels(time_stamp[::12], rotation=90)\n",
    "    ax[i].tick_params(\n",
    "            axis='x',          \n",
    "            which='both',      \n",
    "            bottom=True, \n",
    "            top=False,   \n",
    "            labelbottom=True,\n",
    "            labelsize=xtickfontsize)\n",
    "    ax[i].tick_params(\n",
    "            axis='y',    \n",
    "            which='both',\n",
    "            right=True,\n",
    "            left=True,\n",
    "            labelsize=ytickfontsize)\n",
    "\n",
    "    ax[0].set_title(f\"Raw Trend Plots ({zipcode} | {period[0]}-{period[1]})\",\n",
    "        fontsize=titlefontsize,\n",
    "        fontweight=\"bold\"\n",
    "    )\n",
    "    fig.subplots_adjust(hspace=.01)\n",
    "    plt.tight_layout()\n",
    "    fname = f\"trend-plot-processed-{period[0]}-{period[1]}-{zipcode}.png\"\n",
    "    fig.savefig(os.path.join(rootdir, \"Reports\", \"Figures\", fname), transparent=False)\n",
    "    plt.close(fig)\n",
    "    print(\"completed.\")\n"
   ]
  },
  {
   "cell_type": "code",
   "execution_count": 91,
   "metadata": {},
   "outputs": [],
   "source": [
    "# rescale data\n",
    "values = df[columns].values\n",
    "values = values.astype(\"float32\")\n",
    "scaler = MinMaxScaler(feature_range=(0, 1))\n",
    "values_scaled = scaler.fit_transform(values)\n"
   ]
  },
  {
   "cell_type": "code",
   "execution_count": 94,
   "metadata": {},
   "outputs": [
    {
     "data": {
      "text/plain": [
       "(720, 8)"
      ]
     },
     "execution_count": 94,
     "metadata": {},
     "output_type": "execute_result"
    }
   ],
   "source": [
    "index_target = 0\n",
    "# set model parameters\n",
    "n_lags = 2\n",
    "n_sequences = 1\n",
    "n_train = 9 * 70\n",
    "n_units = 30\n",
    "\n",
    "# set train parameters\n",
    "optimizer = \"adam\"\n",
    "loss = \"mse\"\n",
    "n_epochs = 50\n",
    "sz_batch = 10\n",
    "verbose = 1\n",
    "values_scaled.shape"
   ]
  },
  {
   "cell_type": "code",
   "execution_count": 95,
   "metadata": {},
   "outputs": [
    {
     "data": {
      "text/plain": [
       "(700, 24)"
      ]
     },
     "execution_count": 95,
     "metadata": {},
     "output_type": "execute_result"
    }
   ],
   "source": [
    "# reframe data to supervised learning\n",
    "reframed_df = pd.DataFrame()\n",
    "for zipcode in zipcodes:\n",
    "    value_scaled = values_scaled[df[\"Zip Code\"] == zipcode, :]\n",
    "    reframed_df = reframed_df.append(\n",
    "        series_to_supervised(value_scaled, n_lags, n_sequences), ignore_index=False)\n",
    "reframed_df.shape"
   ]
  },
  {
   "cell_type": "code",
   "execution_count": 96,
   "metadata": {},
   "outputs": [],
   "source": [
    "\n",
    "# create train/valid data\n",
    "# split into train and test sets\n",
    "values = reframed_df.values\n",
    "train_values, valid_values = values[:n_train, :], values[n_train:, :]"
   ]
  },
  {
   "cell_type": "code",
   "execution_count": 97,
   "metadata": {},
   "outputs": [
    {
     "name": "stdout",
     "output_type": "stream",
     "text": [
      "Train Inputs Shape: (630, 16), Train Targets Shape: (630, 1)\n",
      "Valid Inputs Shape: (70, 16), Valid Targets Shape: (70, 1)\n"
     ]
    }
   ],
   "source": [
    "# split into input and targets\n",
    "n_train = train_values.shape[0]\n",
    "n_valid = valid_values.shape[0]\n",
    "n_observations = n_lags * n_variables\n",
    "x_train, y_train = train_values[:, :n_observations], train_values[:, n_observations+index_target:n_train:n_variables]\n",
    "x_valid, y_valid = valid_values[:, :n_observations], valid_values[:, n_observations+index_target:n_valid:n_variables]\n",
    "print(f\"Train Inputs Shape: {x_train.shape}, Train Targets Shape: {y_train.shape}\")\n",
    "print(f\"Valid Inputs Shape: {x_valid.shape}, Valid Targets Shape: {y_valid.shape}\")"
   ]
  },
  {
   "cell_type": "code",
   "execution_count": 98,
   "metadata": {},
   "outputs": [
    {
     "name": "stdout",
     "output_type": "stream",
     "text": [
      "Train Inputs Shape: (630, 2, 8), Train Targets Shape: (630, 1)\n",
      "Valid Inputs Shape: (70, 2, 8), Valid Targets Shape: (70, 1)\n"
     ]
    }
   ],
   "source": [
    "# reshape data as required by ltsm\n",
    "x_train = x_train.reshape((n_train, n_lags, n_variables))\n",
    "x_valid = x_valid.reshape((n_valid, n_lags, n_variables))\n",
    "print(f\"Train Inputs Shape: {x_train.shape}, Train Targets Shape: {y_train.shape}\")\n",
    "print(f\"Valid Inputs Shape: {x_valid.shape}, Valid Targets Shape: {y_valid.shape}\")"
   ]
  },
  {
   "cell_type": "code",
   "execution_count": 99,
   "metadata": {},
   "outputs": [],
   "source": [
    "# build model\n",
    "model = Sequential()\n",
    "model.add(LSTM(n_units, input_shape=(n_lags, n_variables)))\n",
    "model.add(Dense(n_sequences))\n",
    "model.compile(loss=loss, optimizer=optimizer)"
   ]
  },
  {
   "cell_type": "code",
   "execution_count": 100,
   "metadata": {},
   "outputs": [
    {
     "name": "stdout",
     "output_type": "stream",
     "text": [
      "Train on 630 samples, validate on 70 samples\n",
      "Epoch 1/50\n",
      "630/630 [==============================] - 1s 1ms/step - loss: 0.0707 - val_loss: 0.0202\n",
      "Epoch 2/50\n",
      "630/630 [==============================] - 0s 294us/step - loss: 0.0310 - val_loss: 0.0107\n",
      "Epoch 3/50\n",
      "630/630 [==============================] - 0s 287us/step - loss: 0.0180 - val_loss: 0.0049\n",
      "Epoch 4/50\n",
      "630/630 [==============================] - 0s 288us/step - loss: 0.0095 - val_loss: 0.0026\n",
      "Epoch 5/50\n",
      "630/630 [==============================] - 0s 268us/step - loss: 0.0054 - val_loss: 0.0020\n",
      "Epoch 6/50\n",
      "630/630 [==============================] - 0s 285us/step - loss: 0.0035 - val_loss: 0.0017\n",
      "Epoch 7/50\n",
      "630/630 [==============================] - 0s 299us/step - loss: 0.0026 - val_loss: 0.0015\n",
      "Epoch 8/50\n",
      "630/630 [==============================] - 0s 267us/step - loss: 0.0020 - val_loss: 0.0013\n",
      "Epoch 9/50\n",
      "630/630 [==============================] - 0s 298us/step - loss: 0.0016 - val_loss: 0.0011\n",
      "Epoch 10/50\n",
      "630/630 [==============================] - 0s 299us/step - loss: 0.0013 - val_loss: 0.0010\n",
      "Epoch 11/50\n",
      "630/630 [==============================] - 0s 286us/step - loss: 0.0011 - val_loss: 8.5705e-04\n",
      "Epoch 12/50\n",
      "630/630 [==============================] - 0s 304us/step - loss: 9.4331e-04 - val_loss: 7.2405e-04\n",
      "Epoch 13/50\n",
      "630/630 [==============================] - 0s 296us/step - loss: 8.2112e-04 - val_loss: 6.0812e-04\n",
      "Epoch 14/50\n",
      "630/630 [==============================] - 0s 303us/step - loss: 7.2610e-04 - val_loss: 5.1259e-04\n",
      "Epoch 15/50\n",
      "630/630 [==============================] - 0s 309us/step - loss: 6.5194e-04 - val_loss: 4.3797e-04\n",
      "Epoch 16/50\n",
      "630/630 [==============================] - 0s 303us/step - loss: 5.9422e-04 - val_loss: 3.8242e-04\n",
      "Epoch 17/50\n",
      "630/630 [==============================] - 0s 315us/step - loss: 5.4977e-04 - val_loss: 3.4298e-04\n",
      "Epoch 18/50\n",
      "630/630 [==============================] - 0s 325us/step - loss: 5.1613e-04 - val_loss: 3.1628e-04\n",
      "Epoch 19/50\n",
      "630/630 [==============================] - 0s 321us/step - loss: 4.9133e-04 - val_loss: 2.9914e-04\n",
      "Epoch 20/50\n",
      "630/630 [==============================] - 0s 335us/step - loss: 4.7367e-04 - val_loss: 2.8875e-04\n",
      "Epoch 21/50\n",
      "630/630 [==============================] - 0s 307us/step - loss: 4.6163e-04 - val_loss: 2.8285e-04\n",
      "Epoch 22/50\n",
      "630/630 [==============================] - 0s 344us/step - loss: 4.5383e-04 - val_loss: 2.7972e-04\n",
      "Epoch 23/50\n",
      "630/630 [==============================] - 0s 503us/step - loss: 4.4910e-04 - val_loss: 2.7815e-04\n",
      "Epoch 24/50\n",
      "630/630 [==============================] - 0s 507us/step - loss: 4.4644e-04 - val_loss: 2.7734e-04\n",
      "Epoch 25/50\n",
      "630/630 [==============================] - 0s 310us/step - loss: 4.4510e-04 - val_loss: 2.7685e-04\n",
      "Epoch 26/50\n",
      "630/630 [==============================] - 0s 283us/step - loss: 4.4452e-04 - val_loss: 2.7642e-04\n",
      "Epoch 27/50\n",
      "630/630 [==============================] - 0s 295us/step - loss: 4.4438e-04 - val_loss: 2.7597e-04\n",
      "Epoch 28/50\n",
      "630/630 [==============================] - 0s 293us/step - loss: 4.4451e-04 - val_loss: 2.7553e-04\n",
      "Epoch 29/50\n",
      "630/630 [==============================] - 0s 300us/step - loss: 4.4478e-04 - val_loss: 2.7509e-04\n",
      "Epoch 30/50\n",
      "630/630 [==============================] - 0s 314us/step - loss: 4.4520e-04 - val_loss: 2.7472e-04\n",
      "Epoch 31/50\n",
      "630/630 [==============================] - 0s 322us/step - loss: 4.4576e-04 - val_loss: 2.7444e-04\n",
      "Epoch 32/50\n",
      "630/630 [==============================] - 0s 313us/step - loss: 4.4644e-04 - val_loss: 2.7427e-04\n",
      "Epoch 33/50\n",
      "630/630 [==============================] - 0s 302us/step - loss: 4.4722e-04 - val_loss: 2.7421e-04\n",
      "Epoch 34/50\n",
      "630/630 [==============================] - 0s 311us/step - loss: 4.4806e-04 - val_loss: 2.7423e-04\n",
      "Epoch 35/50\n",
      "630/630 [==============================] - 0s 509us/step - loss: 4.4893e-04 - val_loss: 2.7433e-04\n",
      "Epoch 36/50\n",
      "630/630 [==============================] - 0s 309us/step - loss: 4.4975e-04 - val_loss: 2.7444e-04\n",
      "Epoch 37/50\n",
      "630/630 [==============================] - 0s 289us/step - loss: 4.5044e-04 - val_loss: 2.7453e-04\n",
      "Epoch 38/50\n",
      "630/630 [==============================] - 0s 295us/step - loss: 4.5090e-04 - val_loss: 2.7456e-04\n",
      "Epoch 39/50\n",
      "630/630 [==============================] - 0s 253us/step - loss: 4.5109e-04 - val_loss: 2.7448e-04\n",
      "Epoch 40/50\n",
      "630/630 [==============================] - 0s 301us/step - loss: 4.5094e-04 - val_loss: 2.7427e-04\n",
      "Epoch 41/50\n",
      "630/630 [==============================] - 0s 306us/step - loss: 4.5040e-04 - val_loss: 2.7390e-04\n",
      "Epoch 42/50\n",
      "630/630 [==============================] - 0s 277us/step - loss: 4.4938e-04 - val_loss: 2.7333e-04\n",
      "Epoch 43/50\n",
      "630/630 [==============================] - 0s 312us/step - loss: 4.4784e-04 - val_loss: 2.7254e-04\n",
      "Epoch 44/50\n",
      "630/630 [==============================] - 0s 316us/step - loss: 4.4584e-04 - val_loss: 2.7154e-04\n",
      "Epoch 45/50\n",
      "630/630 [==============================] - 0s 322us/step - loss: 4.4331e-04 - val_loss: 2.7033e-04\n",
      "Epoch 46/50\n",
      "630/630 [==============================] - 0s 374us/step - loss: 4.4023e-04 - val_loss: 2.6889e-04\n",
      "Epoch 47/50\n",
      "630/630 [==============================] - 0s 390us/step - loss: 4.3662e-04 - val_loss: 2.6724e-04\n",
      "Epoch 48/50\n",
      "630/630 [==============================] - 0s 282us/step - loss: 4.3252e-04 - val_loss: 2.6538e-04\n",
      "Epoch 49/50\n",
      "630/630 [==============================] - 0s 306us/step - loss: 4.2790e-04 - val_loss: 2.6332e-04\n",
      "Epoch 50/50\n",
      "630/630 [==============================] - 0s 310us/step - loss: 4.2285e-04 - val_loss: 2.6108e-04\n"
     ]
    }
   ],
   "source": [
    "# train model\n",
    "history = model.fit(x_train, y_train,\n",
    "                    epochs=n_epochs,\n",
    "                    batch_size=sz_batch,\n",
    "                    validation_data=(x_valid, y_valid),\n",
    "                    verbose=verbose,\n",
    "                    shuffle=False)"
   ]
  },
  {
   "cell_type": "code",
   "execution_count": 101,
   "metadata": {},
   "outputs": [
    {
     "data": {
      "image/png": "[encoded data removed]",
      "text/plain": [
       "<Figure size 432x288 with 1 Axes>"
      ]
     },
     "metadata": {},
     "output_type": "display_data"
    }
   ],
   "source": [
    "# plot history\n",
    "plt.plot(history.history['loss'], label='Train Loss')\n",
    "plt.plot(history.history['val_loss'], label='Valid Loss')\n",
    "plt.legend()\n",
    "plt.show()"
   ]
  },
  {
   "cell_type": "code",
   "execution_count": 102,
   "metadata": {},
   "outputs": [
    {
     "data": {
      "text/plain": [
       "(70, 1)"
      ]
     },
     "execution_count": 102,
     "metadata": {},
     "output_type": "execute_result"
    }
   ],
   "source": [
    "# make a prediction\n",
    "yhat_valid = model.predict(x_valid)\n",
    "y_valid.shape"
   ]
  },
  {
   "cell_type": "code",
   "execution_count": 104,
   "metadata": {},
   "outputs": [
    {
     "data": {
      "text/plain": [
       "<matplotlib.legend.Legend at 0x7fbf32eb7198>"
      ]
     },
     "execution_count": 104,
     "metadata": {},
     "output_type": "execute_result"
    },
    {
     "data": {
      "image/png": "[encoded data removed]",
      "text/plain": [
       "<Figure size 1440x576 with 2 Axes>"
      ]
     },
     "metadata": {},
     "output_type": "display_data"
    }
   ],
   "source": [
    "# invert normalization/scaling for prediction on valid set\n",
    "x_valid_ = x_valid.reshape((n_valid, n_lags*n_variables))\n",
    "xyhat_valid = x_valid_[:, -n_variables:].copy()\n",
    "xyhat_valid[:,[index_target]] = yhat_valid\n",
    "xyhat_valid = scaler.inverse_transform(xyhat_valid)\n",
    "\n",
    "# invert normalization/scaling for input valid set\n",
    "x_valid_ = x_valid.reshape((n_valid, n_lags*n_variables))\n",
    "xy_valid = x_valid_[:, -n_variables:].copy()\n",
    "xy_valid[:,[index_target]] = y_valid\n",
    "xy_valid = scaler.inverse_transform(xy_valid)\n",
    "\n",
    "\n",
    "\n",
    "figsize = (20, 8)\n",
    "fig = plt.figure(figsize=figsize)\n",
    "ax = fig.subplots(2, 1)\n",
    "ax[0].plot(np.arange(0, xy_valid.shape[0]), xy_valid[:, index_target], label=\"Ground Truth\")\n",
    "ax[0].legend()\n",
    "ax[1].plot(np.arange(0, xyhat_valid.shape[0]), xyhat_valid[:, index_target], label=\"Predict\")\n",
    "ax[1].legend()\n",
    "# ax[1].plot(np.arange(0, y_valid.shape[1]), yhat_valid[0, :], label=\"Predict\")\n",
    "# ax[1].legend()\n",
    "\n"
   ]
  },
  {
   "cell_type": "code",
   "execution_count": 69,
   "metadata": {},
   "outputs": [
    {
     "data": {
      "text/plain": [
       "(160, 8)"
      ]
     },
     "execution_count": 69,
     "metadata": {},
     "output_type": "execute_result"
    }
   ],
   "source": [
    "x_valid_.shape"
   ]
  },
  {
   "cell_type": "code",
   "execution_count": 88,
   "metadata": {},
   "outputs": [
    {
     "data": {
      "text/plain": [
       "(160, 8)"
      ]
     },
     "execution_count": 88,
     "metadata": {},
     "output_type": "execute_result"
    }
   ],
   "source": [
    "xy_valid.shape"
   ]
  },
  {
   "cell_type": "code",
   "execution_count": 89,
   "metadata": {},
   "outputs": [
    {
     "data": {
      "text/plain": [
       "13.333333333333334"
      ]
     },
     "execution_count": 89,
     "metadata": {},
     "output_type": "execute_result"
    }
   ],
   "source": [
    "160/12\n"
   ]
  },
  {
   "cell_type": "code",
   "execution_count": null,
   "metadata": {},
   "outputs": [],
   "source": []
  },
  {
   "cell_type": "code",
   "execution_count": null,
   "metadata": {},
   "outputs": [],
   "source": []
  }
 ],
 "metadata": {
  "kernelspec": {
   "display_name": "Python [conda env:08-project-one]",
   "language": "python",
   "name": "conda-env-08-project-one-py"
  },
  "language_info": {
   "codemirror_mode": {
    "name": "ipython",
    "version": 3
   },
   "file_extension": ".py",
   "mimetype": "text/x-python",
   "name": "python",
   "nbconvert_exporter": "python",
   "pygments_lexer": "ipython3",
   "version": "3.6.5"
  }
 },
 "nbformat": 4,
 "nbformat_minor": 2
}
